{
 "cells": [
  {
   "cell_type": "code",
   "execution_count": 1,
   "id": "edadd89f-4dda-49ba-ae9a-75797d13e020",
   "metadata": {},
   "outputs": [],
   "source": [
    "from facebook_scraper import get_posts"
   ]
  },
  {
   "cell_type": "code",
   "execution_count": 14,
   "id": "d3ca2b2d-5025-46cf-b602-ec3b6eacccc3",
   "metadata": {},
   "outputs": [
    {
     "name": "stderr",
     "output_type": "stream",
     "text": [
      "/Users/pined.la/Desktop/TD_code/lib/python3.8/site-packages/dateparser/freshness_date_parser.py:76: PytzUsageWarning: The localize method is no longer necessary, as this time zone supports the fold attribute (PEP 495). For more details on migrating to a PEP 495-compliant implementation, see https://pytz-deprecation-shim.readthedocs.io/en/latest/migration.html\n",
      "  now = self.get_local_tz().localize(now)\n"
     ]
    }
   ],
   "source": [
    "data = []\n",
    "for post in get_posts('CentralEastVilleFanpage', pages=3, options = {'comments': True}):\n",
    "    data.append(post)"
   ]
  },
  {
   "cell_type": "code",
   "execution_count": 17,
   "id": "3decc71e-761c-4299-808e-c550d40fb624",
   "metadata": {},
   "outputs": [
    {
     "data": {
      "text/plain": [
       "{'post_id': '3384318941849800',\n",
       " 'text': '𝗦𝗘𝗩𝗘𝗡𝗙𝗥𝗜𝗗𝗔𝗬 𝗣𝟯𝗖/𝟭𝟬 และ 𝗣𝟯𝗖/𝟭𝟮 𝗕𝗘𝗔𝗖𝗛 𝗖𝗟𝗨𝗕 (รุ่นพิเศษ)\\n\\nบนความเรียบง่ายแต่ไม่ลดทอนความสลับซับซ้อนที่มีอยู่บนหน้าปัดเรือนเวลารุ่นพิเศษนี้ การออกแบบ In-house นำเสนอความเป็นเอกลักษณ์ของนาฬิกาแบรนด์ SEVENFRIDAYเพิ่มเติม จากสวิตเซอร์แลนด์ 🇨🇭\\n\\nทำงานด้วยกลไก Automatic พร้อม ระบบ Screw-in Crown เพิ่มการป้องกันจากน้ำและฝุ่นละออง สามารถกันน้ำได้ลึกสูงสุดถึง 10ATM หรือ 100 เมตร ทำงานด้วยความถี่ 21,600 ครั้งต่อชั่วโมง สะสมพลังงานได้นานถึง 42 ชั่วโมง สวมใส่คู่สายหนังวัวแท้สีขาวเย็บด้วยมืออย่างปราณีตให้สอดคล้องตามสีของตัวเรือน\\n\\nผลิตในจำนวนจำกัดเพียง 500เรือนทั่วโลกเท่านั้น\\nราคาเรือนละ 56,000 บาท\\nมาถึงประเทศไทยแล้วและพร้อมให้นักสะสมได้ชม สัมผัส และทดลองสวมใส่\\n\\n📍ช้อปได้ที่ SEVENFRIDAY ชั้น 1 โซน Fashion Plus เซ็นทรัล อีสต์วิลล์\\n\\nSEVENFRIDAY LINE OFFICIAL >> https://lin.ee/P8GupbG\\nโทร. +66969606149\\nwww.sevenfriday.online',\n",
       " 'post_text': '𝗦𝗘𝗩𝗘𝗡𝗙𝗥𝗜𝗗𝗔𝗬 𝗣𝟯𝗖/𝟭𝟬 และ 𝗣𝟯𝗖/𝟭𝟮 𝗕𝗘𝗔𝗖𝗛 𝗖𝗟𝗨𝗕 (รุ่นพิเศษ)\\n\\nบนความเรียบง่ายแต่ไม่ลดทอนความสลับซับซ้อนที่มีอยู่บนหน้าปัดเรือนเวลารุ่นพิเศษนี้ การออกแบบ In-house นำเสนอความเป็นเอกลักษณ์ของนาฬิกาแบรนด์ SEVENFRIDAYเพิ่มเติม จากสวิตเซอร์แลนด์ 🇨🇭\\n\\nทำงานด้วยกลไก Automatic พร้อม ระบบ Screw-in Crown เพิ่มการป้องกันจากน้ำและฝุ่นละออง สามารถกันน้ำได้ลึกสูงสุดถึง 10ATM หรือ 100 เมตร ทำงานด้วยความถี่ 21,600 ครั้งต่อชั่วโมง สะสมพลังงานได้นานถึง 42 ชั่วโมง สวมใส่คู่สายหนังวัวแท้สีขาวเย็บด้วยมืออย่างปราณีตให้สอดคล้องตามสีของตัวเรือน\\n\\nผลิตในจำนวนจำกัดเพียง 500เรือนทั่วโลกเท่านั้น\\nราคาเรือนละ 56,000 บาท\\nมาถึงประเทศไทยแล้วและพร้อมให้นักสะสมได้ชม สัมผัส และทดลองสวมใส่\\n\\n📍ช้อปได้ที่ SEVENFRIDAY ชั้น 1 โซน Fashion Plus เซ็นทรัล อีสต์วิลล์\\n\\nSEVENFRIDAY LINE OFFICIAL >> https://lin.ee/P8GupbG\\nโทร. +66969606149\\nwww.sevenfriday.online',\n",
       " 'shared_text': '',\n",
       " 'original_text': None,\n",
       " 'time': datetime.datetime(2022, 10, 19, 15, 40, 3),\n",
       " 'timestamp': 1666168803,\n",
       " 'image': 'https://scontent.fbkk5-6.fna.fbcdn.net/v/t39.30808-6/312322416_3384238438524517_8282909874772397664_n.jpg?stp=cp0_dst-jpg_e15_fr_q65&_nc_cat=102&ccb=1-7&_nc_sid=8024bb&_nc_ohc=O2LLledS5J4AX9en0Y1&_nc_ht=scontent.fbkk5-6.fna&oh=00_AT99QU4TjS5MbzOZHhtx0VGmk-Lxezcumkvewh9EL6X3FA&oe=63561B6C',\n",
       " 'image_lowquality': 'https://scontent.fbkk5-6.fna.fbcdn.net/v/t39.30808-6/312322416_3384238438524517_8282909874772397664_n.jpg?stp=cp0_dst-jpg_e15_q65_s320x320&_nc_cat=102&ccb=1-7&_nc_sid=8024bb&_nc_ohc=O2LLledS5J4AX9en0Y1&_nc_ht=scontent.fbkk5-6.fna&oh=00_AT9Vc46XO2akppH3zK4GrePNwzgKeL5N4L4IUFo52Rqd3w&oe=63561B6C',\n",
       " 'images': ['https://scontent.fbkk5-6.fna.fbcdn.net/v/t39.30808-6/312322416_3384238438524517_8282909874772397664_n.jpg?stp=cp0_dst-jpg_e15_fr_q65&_nc_cat=102&ccb=1-7&_nc_sid=8024bb&_nc_ohc=O2LLledS5J4AX9en0Y1&_nc_ht=scontent.fbkk5-6.fna&oh=00_AT99QU4TjS5MbzOZHhtx0VGmk-Lxezcumkvewh9EL6X3FA&oe=63561B6C',\n",
       "  'https://scontent.fbkk5-4.fna.fbcdn.net/v/t39.30808-6/310822468_3384238518524509_7668413581782433671_n.jpg?stp=cp0_dst-jpg_e15_fr_q65&_nc_cat=103&ccb=1-7&_nc_sid=8024bb&_nc_ohc=JQ2ZoBFEHqwAX87rSWD&_nc_ht=scontent.fbkk5-4.fna&oh=00_AT_TH_bAOcj7jZ2z6r81aWVyUpCEQ9Reol5MgZY3XyKKEg&oe=635674C7',\n",
       "  'https://scontent.fbkk5-6.fna.fbcdn.net/v/t39.30808-6/312341553_3384238528524508_5614847877445476048_n.jpg?stp=cp0_dst-jpg_e15_fr_q65&_nc_cat=101&ccb=1-7&_nc_sid=8024bb&_nc_ohc=gxmYSLYIiHEAX8Hmvkj&_nc_ht=scontent.fbkk5-6.fna&oh=00_AT-cM_-bIvBXLoIfqsxgSkiJqCVgUa8ucGQgP2hFdO7qJA&oe=6354B06C',\n",
       "  'https://scontent.fbkk5-4.fna.fbcdn.net/v/t39.30808-6/312348855_3384238558524505_7050325861808385830_n.jpg?stp=cp0_dst-jpg_e15_fr_q65&_nc_cat=103&ccb=1-7&_nc_sid=8024bb&_nc_ohc=8kx4XZHLtSMAX8c6sac&_nc_ht=scontent.fbkk5-4.fna&oh=00_AT_gqyGfz9Hn_k39FVmHoZWuVb4Y34zE8-SEAOkS0KvPxQ&oe=6355E106'],\n",
       " 'images_description': ['อาจเป็นรูปภาพของ นาฬิกาข้อมือ และ ข้อความ',\n",
       "  'อาจเป็นรูปภาพของ 1 คน และ นาฬิกาข้อมือ',\n",
       "  'อาจเป็นรูปภาพของ 1 คน และ นาฬิกาข้อมือ',\n",
       "  'อาจเป็นรูปภาพของ 2 คน และ นาฬิกาข้อมือ'],\n",
       " 'images_lowquality': ['https://scontent.fbkk5-6.fna.fbcdn.net/v/t39.30808-6/312322416_3384238438524517_8282909874772397664_n.jpg?stp=cp0_dst-jpg_e15_q65_s320x320&_nc_cat=102&ccb=1-7&_nc_sid=8024bb&_nc_ohc=O2LLledS5J4AX9en0Y1&_nc_ht=scontent.fbkk5-6.fna&oh=00_AT9Vc46XO2akppH3zK4GrePNwzgKeL5N4L4IUFo52Rqd3w&oe=63561B6C',\n",
       "  'https://scontent.fbkk5-4.fna.fbcdn.net/v/t39.30808-6/310822468_3384238518524509_7668413581782433671_n.jpg?stp=cp0_dst-jpg_e15_q65_s160x160&_nc_cat=103&ccb=1-7&_nc_sid=8024bb&_nc_ohc=JQ2ZoBFEHqwAX87rSWD&_nc_ht=scontent.fbkk5-4.fna&oh=00_AT-pemkuqrkKGifC9iV27AEuVBrcmxHhoRKRV-i940-EVw&oe=635674C7',\n",
       "  'https://scontent.fbkk5-6.fna.fbcdn.net/v/t39.30808-6/312341553_3384238528524508_5614847877445476048_n.jpg?stp=cp0_dst-jpg_e15_q65_s168x128&_nc_cat=101&ccb=1-7&_nc_sid=8024bb&_nc_ohc=gxmYSLYIiHEAX8Hmvkj&_nc_ht=scontent.fbkk5-6.fna&oh=00_AT_sAvvy5Kot_YEkT0nyzjsjwgbVo9_2va3F20_PS2LBmA&oe=6354B06C',\n",
       "  'https://scontent.fbkk5-4.fna.fbcdn.net/v/t39.30808-6/312348855_3384238558524505_7050325861808385830_n.jpg?stp=cp0_dst-jpg_e15_p110x80_q65&_nc_cat=103&ccb=1-7&_nc_sid=8024bb&_nc_ohc=8kx4XZHLtSMAX8c6sac&_nc_ht=scontent.fbkk5-4.fna&oh=00_AT95wEgn9icCp075xxPE2GxoSx5uDk8njA71gWZRomHS7Q&oe=6355E106'],\n",
       " 'images_lowquality_description': ['อาจเป็นรูปภาพของ นาฬิกาข้อมือ และ ข้อความ',\n",
       "  'อาจเป็นรูปภาพของ 1 คน และ นาฬิกาข้อมือ',\n",
       "  'อาจเป็นรูปภาพของ 1 คน และ นาฬิกาข้อมือ',\n",
       "  'อาจเป็นรูปภาพของ 2 คน และ นาฬิกาข้อมือ'],\n",
       " 'video': None,\n",
       " 'video_duration_seconds': None,\n",
       " 'video_height': None,\n",
       " 'video_id': None,\n",
       " 'video_quality': None,\n",
       " 'video_size_MB': None,\n",
       " 'video_thumbnail': None,\n",
       " 'video_watches': None,\n",
       " 'video_width': None,\n",
       " 'likes': 12,\n",
       " 'comments': 1,\n",
       " 'shares': 10,\n",
       " 'post_url': 'https://facebook.com/CentralEastVilleFanpage/posts/3384318941849800',\n",
       " 'link': 'https://lin.ee/P8GupbG',\n",
       " 'links': [{'link': '/story.php?story_fbid=pfbid02Umt9ptzHMPSCRJk8AGhYUJ3Euz4FGnaAy9zJ1EWporg5wWejxpFFdrJ9UwFbXewGl&id=1397123623902685',\n",
       "   'text': 'เพิ่มเติม'},\n",
       "  {'link': 'https://lm.facebook.com/l.php?u=https%3A%2F%2Flin.ee%2FP8GupbG&h=AT2ZaBV7neZuklnAoeTHuWP5DG-CbJDym9z7uyuAo6yUR7G8JlReY14_X7_lq3AMNhv1ve0cCrCmVHVlLX1B6F98c_latODu3uqQRIFG4JUNht6K6iFZ_na8Ot0sZBU7ulzKAbg5NR414XISU1Krod8OWqGrIS9lu0slcRkOxf7a',\n",
       "   'text': 'https://lin.ee/P8GupbG'},\n",
       "  {'link': 'https://lm.facebook.com/l.php?u=http%3A%2F%2Fwww.sevenfriday.online%2F&h=AT3A3icKj0LJKQFN1Tn9SZX7QXVBrjeuxcZM2_IjDrz7K-Up7zk0ETAjvZYJH04zLNFO5ZzJg-5jz4Cj_qzoI_wMiF-c6gOzPp25y0LhOewJogho0d7c7eSxr4QIKR2hiNpRk88XRnymZn_uOGYGZHppkWkviXmBTJ9xjem0Ehtf',\n",
       "   'text': 'www.sevenfriday.online'},\n",
       "  {'link': '/story.php?story_fbid=pfbid02Umt9ptzHMPSCRJk8AGhYUJ3Euz4FGnaAy9zJ1EWporg5wWejxpFFdrJ9UwFbXewGl&id=1397123623902685&m_entstream_source=timeline&__tn__=%2As%2As-R',\n",
       "   'text': ''},\n",
       "  {'link': '/CentralEastVilleFanpage/photos/pcb.3384318941849800/3384318868516474/?type=3&source=49&__tn__=EH-R',\n",
       "   'text': ''},\n",
       "  {'link': '/CentralEastVilleFanpage/photos/pcb.3384318941849800/3384318865183141/?type=3&source=49&__tn__=EH-R',\n",
       "   'text': ''},\n",
       "  {'link': '/CentralEastVilleFanpage/photos/pcb.3384318941849800/3384318861849808/?type=3&source=49&__tn__=EH-R',\n",
       "   'text': ''},\n",
       "  {'link': '/CentralEastVilleFanpage/photos/pcb.3384318941849800/3384318871849807/?type=3&source=49&__tn__=EH-R',\n",
       "   'text': ''}],\n",
       " 'user_id': '1397123623902685',\n",
       " 'username': 'Central EastVille',\n",
       " 'user_url': 'https://facebook.com/CentralEastVilleFanpage/?__tn__=C-R',\n",
       " 'is_live': False,\n",
       " 'factcheck': None,\n",
       " 'shared_post_id': None,\n",
       " 'shared_time': None,\n",
       " 'shared_user_id': None,\n",
       " 'shared_username': None,\n",
       " 'shared_post_url': None,\n",
       " 'available': True,\n",
       " 'comments_full': [{'comment_id': '449410120513670',\n",
       "   'comment_url': 'https://facebook.com/449410120513670',\n",
       "   'commenter_id': '100063718304265',\n",
       "   'commenter_url': None,\n",
       "   'commenter_name': 'SEVENFRIDAY Bangkok',\n",
       "   'commenter_meta': None,\n",
       "   'comment_text': 'Thank you so much Central EastVille 🙏',\n",
       "   'comment_time': datetime.datetime(2022, 10, 19, 10, 0),\n",
       "   'comment_image': None,\n",
       "   'comment_reactors': [],\n",
       "   'comment_reactions': None,\n",
       "   'comment_reaction_count': None,\n",
       "   'replies': []}],\n",
       " 'reactors': None,\n",
       " 'w3_fb_url': None,\n",
       " 'reactions': None,\n",
       " 'reaction_count': 12,\n",
       " 'with': None,\n",
       " 'page_id': '1397123623902685',\n",
       " 'sharers': None,\n",
       " 'image_id': None,\n",
       " 'image_ids': [],\n",
       " 'was_live': False}"
      ]
     },
     "execution_count": 17,
     "metadata": {},
     "output_type": "execute_result"
    }
   ],
   "source": [
    "data[3]"
   ]
  },
  {
   "cell_type": "code",
   "execution_count": null,
   "id": "4c5eba65-231d-4bef-b027-fe60b42592fc",
   "metadata": {},
   "outputs": [],
   "source": []
  }
 ],
 "metadata": {
  "kernelspec": {
   "display_name": "Python 3 (ipykernel)",
   "language": "python",
   "name": "python3"
  },
  "language_info": {
   "codemirror_mode": {
    "name": "ipython",
    "version": 3
   },
   "file_extension": ".py",
   "mimetype": "text/x-python",
   "name": "python",
   "nbconvert_exporter": "python",
   "pygments_lexer": "ipython3",
   "version": "3.8.2"
  }
 },
 "nbformat": 4,
 "nbformat_minor": 5
}
